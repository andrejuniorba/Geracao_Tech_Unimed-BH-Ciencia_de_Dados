{
  "nbformat": 4,
  "nbformat_minor": 0,
  "metadata": {
    "colab": {
      "provenance": [],
      "authorship_tag": "ABX9TyNk2oNhN+vg49NKeCzXGNBk",
      "include_colab_link": true
    },
    "kernelspec": {
      "name": "python3",
      "display_name": "Python 3"
    },
    "language_info": {
      "name": "python"
    }
  },
  "cells": [
    {
      "cell_type": "markdown",
      "metadata": {
        "id": "view-in-github",
        "colab_type": "text"
      },
      "source": [
        "<a href=\"https://colab.research.google.com/github/andrejuniorba/Geracao_Tech_Unimed-BH-Ciencia_de_Dados/blob/main/Desafio_de_c%C3%B3digos.ipynb\" target=\"_parent\"><img src=\"https://colab.research.google.com/assets/colab-badge.svg\" alt=\"Open In Colab\"/></a>"
      ]
    },
    {
      "cell_type": "markdown",
      "source": [
        "**Desafio 1**\n",
        "\n",
        "Saruman, o Branco, um grande mago da Terra-média, traiu os bons costumes e se filiou ao lorde do mal, Sauron. Sauron comanda a torre de Minas Morgul, que abriga um dos seus mais temidos servos, o Rei Bruxo de Angmar, um dos Nazgûl (antigos reis humanos que foram corrompidos pelos poderes dos anéis de Sauron). Saruman comanda a torre de Orthanc, onde cria seus servos Uruk-hai, orcs mais terríveis que os convencionais. Para comunicação, eles utilizam as relíquias esféricas chamadas Palantír, que ficam no topo de suas torres. A Terra-média avança cada vez mais em tecnologia, muito impulsionada pelas guerras que a acometem diariamente. Um dos problemas que tem atrapalhado sua população é a Interferência de Comunicação Mágica (ICM). Os estudiosos de Minas Tirith, grande cidadela de Gondor, concluíram que para calcular o ICM para Palantír’s, basta dividir a distância entre os dois Palantír’s, pela soma do diâmetro dos mesmos. Gandalf, o Cinza, chegou a questionar essa conclusão, alegando que ela não fazia muito sentido, mas ele mesmo concluiu que dar sentido às coisas não faz sentido. Saruman e Sauron precisam de uma comunicação estável, pois têm medo que Frodo e seus amigos consigam atrapalhar seus planos, portanto, querem saber quanto de ICM há na comunicação de seus Palantír’s, para que saibam quanto de magia devem empregar na comunicação.\n",
        "\n",
        "**Entrada**\n",
        "\n",
        "A entrada é composta por 3 inteiros, N(0 < N < 10000), X e Y(0 < X, Y < 100), que indicam, respectivamente, a distância entre os Palantír, o diâmetro do Palantír de Sauron e o diâmetro do Palantír de Saruman.\n",
        "\n",
        "Saída \n",
        "\n",
        "Um valor real indicando o ICM da comunicação dos Palatír de Sauron e Saruman, com 2 casas decimais."
      ],
      "metadata": {
        "id": "CFUViF3Y6dYT"
      }
    },
    {
      "cell_type": "code",
      "execution_count": 1,
      "metadata": {
        "colab": {
          "base_uri": "https://localhost:8080/"
        },
        "id": "JinM14xa6U6Q",
        "outputId": "61be2c4a-a0d8-481d-b9f9-b02e8e0e4dd5"
      },
      "outputs": [
        {
          "output_type": "stream",
          "name": "stdout",
          "text": [
            "200 3 8\n",
            "18.18\n"
          ]
        }
      ],
      "source": [
        "#Entrada\n",
        "dados = input().split()\n",
        "\n",
        "#Manipulação\n",
        "N = int(dados[0])\n",
        "X = int(dados[1])\n",
        "Y = int(dados[2])\n",
        "\n",
        "#Operações\n",
        "soma = X + Y\n",
        "ICM = N / soma\n",
        "\n",
        "#Resultado\n",
        "print(f'{ICM:,.2f}')"
      ]
    },
    {
      "cell_type": "markdown",
      "source": [
        "**Desafio 2**\n",
        "\n",
        "Em 2012 foi alcançado um novo recorde mundial na famosa Competição de Cachorros-Quentes do Nathan: o campeão, Joey Chestnut, devorou 68 cachorros-quentes em dez minutos, um aumento incrível em relação aos 62 sanduíches devorados pelo mesmo Chestnut em 2011.\n",
        "\n",
        "O restaurante Nathan’s Famous Corporation, localizado no Brooklyn, NY, é o responsável pela competição. Eles produzem deliciosos cachorros-quentes, mundialmente famosos, mas quando o assunto é matemática eles não são tão bons. Eles desejam ser listados no Livro de Recordes do Guinness, mas para isso devem preencher um formulário descrevendo os fatos básicos da competição. Em particular, eles devem informar o número médio de cachorros-quentes consumidos pelos participantes durante a competição.\n",
        "\n",
        "Você pode ajudá-los? Eles prometeram pagá-lo com um dos seus saborosos cachorros-quentes. Dados o número total de cachorros-quentes consumidos e o número total de participantes na competição, você deve escrever um programa para determinar o número médio de cachorros-quentes consumidos pelos participantes.\n",
        "\n",
        "**Entrada**\n",
        "\n",
        "A entrada consiste de uma única linha que contém dois inteiros H e P (1 ≤ H, P ≤ 1000) indicando respectivamente o número total de cachorros-quentes consumidos e o número total de participantes na competição.\n",
        "\n",
        "**Saída**\n",
        "\n",
        "Seu programa deve produzir uma única linha com um número racional representando o número médio de cachorros-quentes consumidos pelos participantes. O resultado deve ser escrito como um número racional com exatamente dois dígitos após o ponto decimal, arredondado se necessário."
      ],
      "metadata": {
        "id": "5Q8GA67P6v0h"
      }
    },
    {
      "cell_type": "code",
      "source": [
        "valores = input().split() \n",
        "\n",
        "H = int(valores[0])\n",
        "P = int(valores[1])\n",
        "\n",
        "media = H/P\n",
        "\n",
        "print(f'{media:,.2f}')"
      ],
      "metadata": {
        "colab": {
          "base_uri": "https://localhost:8080/"
        },
        "id": "nfrwyIr16ztE",
        "outputId": "8e946d07-94b2-4b79-bcf4-957671e613f1"
      },
      "execution_count": 2,
      "outputs": [
        {
          "output_type": "stream",
          "name": "stdout",
          "text": [
            "10 90\n",
            "0.11\n"
          ]
        }
      ]
    },
    {
      "cell_type": "markdown",
      "source": [
        "**Desafio 3**\n",
        "\n",
        "Rubens quer calcular e mostrar a quantidade de litros de combustível gastos em uma viagem de carro, sendo que seu carro faz 12 KM/L. Como ele não sabe fazer um programa que o auxilie nessa missão, ele te pede ajuda. Para efetuar o cálculo, deve-se fornecer o tempo gasto em horas na viagem e a velocidade média durante a mesma em km/h. Assim, você conseguirá passar para Rubens qual a distância percorrida e, em seguida, calcular quantos litros serão necessários para a viagem que ele quer fazer. Mostre o valor com 3 casas decimais após o ponto.\n",
        "\n",
        "**Entrada**\n",
        "\n",
        "O arquivo de entrada contém dois inteiros. O primeiro é o tempo gasto na viagem em horas e o segundo é a velocidade média durante a mesma em km/h.\n",
        "\n",
        "**Saída**\n",
        "\n",
        "Imprima a quantidade de litros necessária para realizar a viagem, com três dígitos após o ponto decimal"
      ],
      "metadata": {
        "id": "GUXvci6D64PE"
      }
    },
    {
      "cell_type": "code",
      "source": [
        "valores = input().split()\n",
        "\n",
        "T = int(valores[0])\n",
        "V = int(valores[1])\n",
        "\n",
        "D = T * V \n",
        "\n",
        "L = D/12\n",
        "\n",
        "print(f'{L:,.3f}')"
      ],
      "metadata": {
        "colab": {
          "base_uri": "https://localhost:8080/"
        },
        "id": "8zmf6NHw68m_",
        "outputId": "c5988e41-5c82-4044-9367-697011563b1e"
      },
      "execution_count": 3,
      "outputs": [
        {
          "output_type": "stream",
          "name": "stdout",
          "text": [
            "10 85\n",
            "70.833\n"
          ]
        }
      ]
    }
  ]
}